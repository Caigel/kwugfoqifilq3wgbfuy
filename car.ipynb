{
 "cells": [
  {
   "cell_type": "code",
   "execution_count": 2,
   "id": "585ce490-ac6e-4d3e-9b45-ce7e38669907",
   "metadata": {},
   "outputs": [
    {
     "name": "stdin",
     "output_type": "stream",
     "text": [
      "Enter the year of the car:  2024\n",
      "Enter the make of the car:  m4\n",
      "Enter the model of the car:  m4\n",
      "Enter the number of doors (2 or 4):  2\n",
      "Enter the type of roof (solid or sun roof):  solid\n"
     ]
    },
    {
     "name": "stdout",
     "output_type": "stream",
     "text": [
      "Vehicle Information:\n",
      "  Vehicle type: car\n",
      "  Year: 2024\n",
      "  Make: m4\n",
      "  Model: m4\n",
      "  Number of doors: 2\n",
      "  Type of roof: solid\n"
     ]
    }
   ],
   "source": [
    "class Vehicle:\n",
    "    def __init__(self, vehicle_type):\n",
    "        self.vehicle_type = vehicle_type\n",
    "\n",
    "class Automobile(Vehicle):\n",
    "    def __init__(self, year, make, model, doors, roof):\n",
    "        super().__init__(\"car\")  \n",
    "        self.year = year\n",
    "        self.make = make\n",
    "        self.model = model\n",
    "        self.doors = doors\n",
    "        self.roof = roof\n",
    "\n",
    "    def display_info(self):\n",
    "        print(\"Vehicle Information:\")\n",
    "        print(f\"  Vehicle type: {self.vehicle_type}\")\n",
    "        print(f\"  Year: {self.year}\")\n",
    "        print(f\"  Make: {self.make}\")\n",
    "        print(f\"  Model: {self.model}\")\n",
    "        print(f\"  Number of doors: {self.doors}\")\n",
    "        print(f\"  Type of roof: {self.roof}\")\n",
    "\n",
    "year = input(\"Enter the year of the car: \")\n",
    "make = input(\"Enter the make of the car: \")\n",
    "model = input(\"Enter the model of the car: \")\n",
    "doors = input(\"Enter the number of doors (2 or 4): \")\n",
    "roof = input(\"Enter the type of roof (solid or sun roof): \")\n",
    "\n",
    "car = Automobile(year, make, model, doors, roof)\n",
    "\n",
    "car.display_info()\n"
   ]
  },
  {
   "cell_type": "code",
   "execution_count": null,
   "id": "96743f5f-512e-4f8f-b893-bf94a69f02c2",
   "metadata": {},
   "outputs": [],
   "source": []
  }
 ],
 "metadata": {
  "kernelspec": {
   "display_name": "Python 3 (ipykernel)",
   "language": "python",
   "name": "python3"
  },
  "language_info": {
   "codemirror_mode": {
    "name": "ipython",
    "version": 3
   },
   "file_extension": ".py",
   "mimetype": "text/x-python",
   "name": "python",
   "nbconvert_exporter": "python",
   "pygments_lexer": "ipython3",
   "version": "3.13.0"
  }
 },
 "nbformat": 4,
 "nbformat_minor": 5
}
