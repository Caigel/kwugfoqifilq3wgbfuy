{
 "cells": [
  {
   "cell_type": "code",
   "execution_count": null,
   "id": "ce5d79b8-0591-4af2-9b5d-b917939cb521",
   "metadata": {},
   "outputs": [],
   "source": [
    "\n",
    "# Caige Laurenti\n",
    "# car.ipynb\n",
    "# The app will then ask the user for the year, make, model, doors, and type of roof and store thdata in the attributes above.\n",
    "# The app will then output the data in an easy-to-read and understandable format\n",
    "\n",
    "\n",
    "\n",
    "class Vehicle:\n",
    "    def __init__(self, vehicle_type):\n",
    "        self.vehicle_type = vehicle_type\n",
    "\n",
    "class Automobile(Vehicle):\n",
    "    def __init__(self, year, make, model, doors, roof):\n",
    "        super().__init__(\"car\")  \n",
    "        self.year = year\n",
    "        self.make = make\n",
    "        self.model = model\n",
    "        self.doors = doors\n",
    "        self.roof = roof\n",
    "\n",
    "    def display_info(self):\n",
    "        print(\"Vehicle Information:\")\n",
    "        print(f\"  Vehicle type: {self.vehicle_type}\")\n",
    "        print(f\"  Year: {self.year}\")\n",
    "        print(f\"  Make: {self.make}\")\n",
    "        print(f\"  Model: {self.model}\")\n",
    "        print(f\"  Number of doors: {self.doors}\")\n",
    "        print(f\"  Type of roof: {self.roof}\")\n",
    "\n",
    "year = input(\"Enter the year of the car: \")\n",
    "make = input(\"Enter the make of the car: \")\n",
    "model = input(\"Enter the model of the car: \")\n",
    "doors = input(\"Enter the number of doors (2 or 4): \")\n",
    "roof = input(\"Enter the type of roof (solid or sun roof): \")\n",
    "\n",
    "car = Automobile(year, make, model, doors, roof)\n",
    "\n",
    "car.display_info()\n"
   ]
  },
  {
   "cell_type": "code",
   "execution_count": null,
   "id": "96743f5f-512e-4f8f-b893-bf94a69f02c2",
   "metadata": {},
   "outputs": [],
   "source": []
  }
 ],
 "metadata": {
  "kernelspec": {
   "display_name": "Python 3 (ipykernel)",
   "language": "python",
   "name": "python3"
  },
  "language_info": {
   "codemirror_mode": {
    "name": "ipython",
    "version": 3
   },
   "file_extension": ".py",
   "mimetype": "text/x-python",
   "name": "python",
   "nbconvert_exporter": "python",
   "pygments_lexer": "ipython3",
   "version": "3.13.0"
  }
 },
 "nbformat": 4,
 "nbformat_minor": 5
}
